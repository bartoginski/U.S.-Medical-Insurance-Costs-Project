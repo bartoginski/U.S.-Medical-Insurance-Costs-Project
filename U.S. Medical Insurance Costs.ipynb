{
 "cells": [
  {
   "cell_type": "markdown",
   "metadata": {},
   "source": [
    "# U.S. Medical Insurance Costs - Portfolio Project"
   ]
  },
  {
   "cell_type": "markdown",
   "metadata": {},
   "source": [
    "## Necessary imports:"
   ]
  },
  {
   "cell_type": "code",
   "execution_count": 97,
   "metadata": {},
   "outputs": [],
   "source": [
    "import csv \n",
    "from matplotlib import pyplot as plt\n"
   ]
  },
  {
   "cell_type": "markdown",
   "metadata": {},
   "source": [
    "**This project is based on U.S. Medical Insurance Costs dataset, saved as insurance.csv file** <br>\n",
    "Dataset has 7 columns:\n",
    "- age\n",
    "- sex\n",
    "- bmi \n",
    "- children (number of children)\n",
    "- smoker (is the person smoking)  \n",
    "- region (region of US)\n",
    "- charges (Individual medical costs billed by health insurance)"
   ]
  },
  {
   "cell_type": "code",
   "execution_count": 38,
   "metadata": {},
   "outputs": [
    {
     "name": "stdout",
     "output_type": "stream",
     "text": [
      "Example data:\n",
      "age - 19\n",
      "sex - female\n",
      "bmi - 27.9\n",
      "children - 0\n",
      "smoker - yes\n",
      "region - southwest\n",
      "charges\n",
      " - 16884.924\n",
      "\n"
     ]
    }
   ],
   "source": [
    "with open('insurance.csv') as insurance_csv:\n",
    "    header = insurance_csv.readline().split(',')\n",
    "    first_row = insurance_csv.readline().split(',')\n",
    "    \n",
    "print(\"Example data:\")\n",
    "for i in range(len(header)):\n",
    "    print(header[i], first_row[i], sep=\" - \")"
   ]
  },
  {
   "cell_type": "markdown",
   "metadata": {},
   "source": [
    "## Creating dict of dataset"
   ]
  },
  {
   "cell_type": "code",
   "execution_count": 63,
   "metadata": {},
   "outputs": [],
   "source": [
    "insurace_dict = {\n",
    "    'age': [],\n",
    "    'sex':  [],\n",
    "    'bmi': [],\n",
    "    'children': [],\n",
    "    'smoker': [],\n",
    "    'region': [], \n",
    "    'charges': []\n",
    "    \n",
    "}\n",
    "with open('insurance.csv') as insurance_csv:\n",
    "    insurance_reader = csv.DictReader(insurance_csv, delimiter=',')\n",
    "    \n",
    "    for row in insurance_reader:\n",
    "        insurace_dict['age'].append(int(row['age']))\n",
    "        insurace_dict['sex'].append(row['sex'])\n",
    "        insurace_dict['bmi'].append(float(row['bmi']))\n",
    "        insurace_dict['children'].append(int(row['children']))\n",
    "        insurace_dict['smoker'].append(row['smoker'])\n",
    "        insurace_dict['region'].append(row['region'])\n",
    "        insurace_dict['charges'].append(float(row['charges']))\n"
   ]
  },
  {
   "cell_type": "markdown",
   "metadata": {},
   "source": [
    "## The insured's average age\n"
   ]
  },
  {
   "cell_type": "code",
   "execution_count": 72,
   "metadata": {},
   "outputs": [
    {
     "name": "stdout",
     "output_type": "stream",
     "text": [
      "Average age is 39.20702541106129 ~= 39 years.\n"
     ]
    }
   ],
   "source": [
    "total_age = 0 \n",
    "\n",
    "for age in insurace_dict['age']:\n",
    "    total_age += age\n",
    "\n",
    "average_age = total_age / len(insurace_dict['age'])\n",
    "\n",
    "print(\"Average age is \" + str(average_age) + \" ~= \" + str(round(average_age)) + \" years.\")"
   ]
  },
  {
   "cell_type": "code",
   "execution_count": 93,
   "metadata": {
    "scrolled": false
   },
   "outputs": [
    {
     "data": {
      "image/png": "[encoded data removed]",
      "text/plain": [
       "<Figure size 432x288 with 1 Axes>"
      ]
     },
     "metadata": {
      "needs_background": "light"
     },
     "output_type": "display_data"
    }
   ],
   "source": [
    "plt.hist(insurace_dict['age'], bins=15, rwidth=0.8, label='ages')\n",
    "plt.xlabel('Age',)\n",
    "plt.ylabel('Number of people')\n",
    "plt.show()"
   ]
  },
  {
   "cell_type": "markdown",
   "metadata": {},
   "source": [
    "Most of insurance people is before 20 years old."
   ]
  },
  {
   "cell_type": "markdown",
   "metadata": {},
   "source": [
    "## Smoker and non-smoker\n"
   ]
  },
  {
   "cell_type": "code",
   "execution_count": 99,
   "metadata": {},
   "outputs": [
    {
     "data": {
      "text/plain": [
       "(array([ 274.,    0.,    0.,    0.,    0.,    0.,    0.,    0.,    0.,\n",
       "        1064.]),\n",
       " array([0. , 0.1, 0.2, 0.3, 0.4, 0.5, 0.6, 0.7, 0.8, 0.9, 1. ]),\n",
       " <a list of 10 Patch objects>)"
      ]
     },
     "execution_count": 99,
     "metadata": {},
     "output_type": "execute_result"
    },
    {
     "data": {
      "image/png": "[encoded data removed]",
      "text/plain": [
       "<Figure size 432x288 with 1 Axes>"
      ]
     },
     "metadata": {
      "needs_background": "light"
     },
     "output_type": "display_data"
    }
   ],
   "source": [
    "plt.hist(insurace_dict['smoker'],rwidth=1 )"
   ]
  }
 ],
 "metadata": {
  "kernelspec": {
   "display_name": "Python 3",
   "language": "python",
   "name": "python3"
  },
  "language_info": {
   "codemirror_mode": {
    "name": "ipython",
    "version": 3
   },
   "file_extension": ".py",
   "mimetype": "text/x-python",
   "name": "python",
   "nbconvert_exporter": "python",
   "pygments_lexer": "ipython3",
   "version": "3.8.3"
  }
 },
 "nbformat": 4,
 "nbformat_minor": 4
}
