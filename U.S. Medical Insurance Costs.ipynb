{
 "cells": [
  {
   "cell_type": "markdown",
   "metadata": {},
   "source": [
    "# U.S. Medical Insurance Costs - Portfolio Project"
   ]
  },
  {
   "cell_type": "markdown",
   "metadata": {},
   "source": [
    "## Necessary imports:"
   ]
  },
  {
   "cell_type": "code",
   "execution_count": 2,
   "metadata": {},
   "outputs": [],
   "source": [
    "import csv \n",
    "from matplotlib import pyplot as plt\n",
    "import pandas as pd\n",
    "import numpy as np"
   ]
  },
  {
   "cell_type": "markdown",
   "metadata": {},
   "source": [
    "**This project is based on U.S. Medical Insurance Costs dataset, saved as insurance.csv file** <br>\n",
    "Dataset has 7 columns:\n",
    "- age\n",
    "- sex\n",
    "- bmi \n",
    "- children (number of children)\n",
    "- smoker (is the person smoking)  \n",
    "- region (region of US)\n",
    "- charges (Individual medical costs billed by health insurance)"
   ]
  },
  {
   "cell_type": "code",
   "execution_count": 3,
   "metadata": {},
   "outputs": [
    {
     "name": "stdout",
     "output_type": "stream",
     "text": [
      "Example data:\n",
      "age - 19\n",
      "sex - female\n",
      "bmi - 27.9\n",
      "children - 0\n",
      "smoker - yes\n",
      "region - southwest\n",
      "charges\n",
      " - 16884.924\n",
      "\n"
     ]
    }
   ],
   "source": [
    "with open('insurance.csv') as insurance_csv:\n",
    "    header = insurance_csv.readline().split(',')\n",
    "    first_row = insurance_csv.readline().split(',')\n",
    "    \n",
    "print(\"Example data:\")\n",
    "for i in range(len(header)):\n",
    "    print(header[i], first_row[i], sep=\" - \")"
   ]
  },
  {
   "cell_type": "markdown",
   "metadata": {},
   "source": [
    "## Creating DataFrame"
   ]
  },
  {
   "cell_type": "code",
   "execution_count": 48,
   "metadata": {},
   "outputs": [
    {
     "data": {
      "text/html": [
       "<div>\n",
       "<style scoped>\n",
       "    .dataframe tbody tr th:only-of-type {\n",
       "        vertical-align: middle;\n",
       "    }\n",
       "\n",
       "    .dataframe tbody tr th {\n",
       "        vertical-align: top;\n",
       "    }\n",
       "\n",
       "    .dataframe thead th {\n",
       "        text-align: right;\n",
       "    }\n",
       "</style>\n",
       "<table border=\"1\" class=\"dataframe\">\n",
       "  <thead>\n",
       "    <tr style=\"text-align: right;\">\n",
       "      <th></th>\n",
       "      <th>age</th>\n",
       "      <th>sex</th>\n",
       "      <th>bmi</th>\n",
       "      <th>children</th>\n",
       "      <th>smoker</th>\n",
       "      <th>region</th>\n",
       "      <th>charges</th>\n",
       "    </tr>\n",
       "  </thead>\n",
       "  <tbody>\n",
       "    <tr>\n",
       "      <th>0</th>\n",
       "      <td>19</td>\n",
       "      <td>female</td>\n",
       "      <td>27.900</td>\n",
       "      <td>0</td>\n",
       "      <td>yes</td>\n",
       "      <td>southwest</td>\n",
       "      <td>16884.92400</td>\n",
       "    </tr>\n",
       "    <tr>\n",
       "      <th>1</th>\n",
       "      <td>18</td>\n",
       "      <td>male</td>\n",
       "      <td>33.770</td>\n",
       "      <td>1</td>\n",
       "      <td>no</td>\n",
       "      <td>southeast</td>\n",
       "      <td>1725.55230</td>\n",
       "    </tr>\n",
       "    <tr>\n",
       "      <th>2</th>\n",
       "      <td>28</td>\n",
       "      <td>male</td>\n",
       "      <td>33.000</td>\n",
       "      <td>3</td>\n",
       "      <td>no</td>\n",
       "      <td>southeast</td>\n",
       "      <td>4449.46200</td>\n",
       "    </tr>\n",
       "    <tr>\n",
       "      <th>3</th>\n",
       "      <td>33</td>\n",
       "      <td>male</td>\n",
       "      <td>22.705</td>\n",
       "      <td>0</td>\n",
       "      <td>no</td>\n",
       "      <td>northwest</td>\n",
       "      <td>21984.47061</td>\n",
       "    </tr>\n",
       "    <tr>\n",
       "      <th>4</th>\n",
       "      <td>32</td>\n",
       "      <td>male</td>\n",
       "      <td>28.880</td>\n",
       "      <td>0</td>\n",
       "      <td>no</td>\n",
       "      <td>northwest</td>\n",
       "      <td>3866.85520</td>\n",
       "    </tr>\n",
       "  </tbody>\n",
       "</table>\n",
       "</div>"
      ],
      "text/plain": [
       "   age     sex     bmi  children smoker     region      charges\n",
       "0   19  female  27.900         0    yes  southwest  16884.92400\n",
       "1   18    male  33.770         1     no  southeast   1725.55230\n",
       "2   28    male  33.000         3     no  southeast   4449.46200\n",
       "3   33    male  22.705         0     no  northwest  21984.47061\n",
       "4   32    male  28.880         0     no  northwest   3866.85520"
      ]
     },
     "execution_count": 48,
     "metadata": {},
     "output_type": "execute_result"
    }
   ],
   "source": [
    "df = pd.read_csv('insurance.csv')\n",
    "\n",
    "# male and female DataFrame\n",
    "df_male = df[df['sex'] == 'male']\n",
    "df_female = df[df['sex'] == 'female']\n",
    "\n",
    "df.head()"
   ]
  },
  {
   "cell_type": "markdown",
   "metadata": {},
   "source": [
    "## The insured's average age\n"
   ]
  },
  {
   "cell_type": "code",
   "execution_count": 16,
   "metadata": {},
   "outputs": [
    {
     "name": "stdout",
     "output_type": "stream",
     "text": [
      "Average age is ~ 39\n",
      "Median age is  39.0\n",
      "The oldest person 64 years old\n",
      "The youngest person 18 years old\n"
     ]
    }
   ],
   "source": [
    "average_age = df['age'].mean()\n",
    "print(\"Average age is ~\", round(average_age))\n",
    "\n",
    "median_age = df['age'].median()\n",
    "print(\"Median age is \", median_age)\n",
    "\n",
    "max_age = df['age'].max()\n",
    "min_age = df['age'].min()\n",
    "\n",
    "print('The oldest person', max_age, 'years old')\n",
    "print('The youngest person', min_age, 'years old')"
   ]
  },
  {
   "cell_type": "code",
   "execution_count": 6,
   "metadata": {
    "scrolled": false
   },
   "outputs": [
    {
     "data": {
      "image/png": "[encoded data removed]",
      "text/plain": [
       "<Figure size 432x288 with 1 Axes>"
      ]
     },
     "metadata": {
      "needs_background": "light"
     },
     "output_type": "display_data"
    }
   ],
   "source": [
    "plt.hist(df['age'], bins=15, rwidth=0.8, label='ages')\n",
    "plt.xlabel('Age',)\n",
    "plt.ylabel('Number of people')\n",
    "plt.show()"
   ]
  },
  {
   "cell_type": "markdown",
   "metadata": {},
   "source": [
    "Most of insurance people is before 20 years old."
   ]
  },
  {
   "cell_type": "markdown",
   "metadata": {},
   "source": [
    "## Smoker and non-smoker\n"
   ]
  },
  {
   "cell_type": "code",
   "execution_count": 50,
   "metadata": {},
   "outputs": [
    {
     "name": "stdout",
     "output_type": "stream",
     "text": [
      "Number of male smokers: 159\n",
      "Number of male non-smokers: 517\n",
      "Number of female smokers: 115\n",
      "Number of female non-smokers: 547\n",
      "Percentage of male smokers: 30.75 %\n",
      "Percentage of female smokers: 21.02 %\n"
     ]
    }
   ],
   "source": [
    "# smoker male\n",
    "smoker_male = df_male[df_male.smoker == 'yes']\n",
    "\n",
    "smoker_male.reset_index(drop=True, inplace=True)\n",
    "\n",
    "num_smoker_male = len(smoker_male)\n",
    "\n",
    "# non-smoker male\n",
    "non_smoker_male = df_male[df_male.smoker == 'no']\n",
    "non_smoker_male.reset_index(drop=True, inplace=True)\n",
    "\n",
    "num_non_smoker_male = len(non_smoker_male)\n",
    "\n",
    "# smoker female \n",
    "smoker_female = df_female[df_female.smoker == 'yes']\n",
    "\n",
    "smoker_female.reset_index(drop=True, inplace=True)\n",
    "\n",
    "num_smoker_female = len(smoker_female)\n",
    "\n",
    "# non smoker female\n",
    "non_smoker_female = df_female[df_female.smoker == 'no']\n",
    "non_smoker_female.reset_index(drop=True, inplace=True)\n",
    "\n",
    "num_non_smoker_female = len(non_smoker_female)\n",
    "\n",
    "\n",
    "\n",
    "print(\"Number of male smokers:\", num_smoker_male)\n",
    "print(\"Number of male non-smokers:\", num_non_smoker_male)\n",
    "\n",
    "print(\"Number of female smokers:\", num_smoker_female)\n",
    "print(\"Number of female non-smokers:\", num_non_smoker_female)\n",
    "\n",
    "percentage_male_smokers = num_smoker_male / num_non_smoker_male * 100\n",
    "percentage_female_smokers = num_smoker_female / num_non_smoker_female * 100\n",
    "\n",
    "print(\"Percentage of male smokers:\", round(percentage_male_smokers, 2), '%')\n",
    "print(\"Percentage of female smokers:\", round(percentage_female_smokers, 2), '%')\n"
   ]
  },
  {
   "cell_type": "markdown",
   "metadata": {},
   "source": [
    "# Charges "
   ]
  },
  {
   "cell_type": "code",
   "execution_count": 44,
   "metadata": {},
   "outputs": [
    {
     "name": "stdout",
     "output_type": "stream",
     "text": [
      "Max charge: ~ 63770.43\n",
      "Min charge: ~ 1121.87\n",
      "Average charge: ~ 13270.42\n",
      "Median charge: ~ 9382.03\n",
      "The difference between the highest and lowest charge: ~ 62648.55\n"
     ]
    }
   ],
   "source": [
    "charges = df['charges']\n",
    "\n",
    "charge_max = charges.max()\n",
    "charge_min = charges.min()\n",
    "\n",
    "median_charge = charges.median()\n",
    "average_charge = charges.mean()\n",
    "\n",
    "\n",
    "print(\"Max charge: ~\", round(charge_max, 2))\n",
    "print(\"Min charge: ~\", round(charge_min, 2))\n",
    "print(\"Average charge: ~\", round(average_charge, 2))\n",
    "print(\"Median charge: ~\", round(median_charge, 2))\n",
    "print(\"The difference between the highest and lowest charge: ~\", round(charge_max - charge_min, 2))"
   ]
  },
  {
   "cell_type": "code",
   "execution_count": 80,
   "metadata": {},
   "outputs": [
    {
     "data": {
      "image/png": "[encoded data removed]",
      "text/plain": [
       "<Figure size 432x288 with 1 Axes>"
      ]
     },
     "metadata": {
      "needs_background": "light"
     },
     "output_type": "display_data"
    }
   ],
   "source": [
    "plt.hist(charges)\n",
    "plt.title(\"Total charges\")\n",
    "plt.xlabel('Charges')\n",
    "plt.ylabel('Number of charges')\n",
    "plt.axvline(average_charge, color='orange')\n",
    "plt.axvline(median_charge, color='yellow')\n",
    "plt.legend(['Average Charge', 'Median Charges', 'Charges'])\n",
    "\n",
    "plt.show()"
   ]
  },
  {
   "cell_type": "markdown",
   "metadata": {},
   "source": [
    "## Male charges"
   ]
  },
  {
   "cell_type": "code",
   "execution_count": 69,
   "metadata": {},
   "outputs": [
    {
     "name": "stdout",
     "output_type": "stream",
     "text": [
      "Average male charge: ~ 13956.75\n",
      "Median male charges: ~ 9369.62\n",
      "Max male charge: ~ 62592.87\n",
      "Min male charge: ~ 1121.87\n"
     ]
    }
   ],
   "source": [
    "average_male_charge = df_male['charges'].mean()\n",
    "median_male_charge = df_male['charges'].median()\n",
    "max_male_charge = df_male['charges'].max()\n",
    "min_male_charge = df_male['charges'].min()\n",
    "\n",
    "print(\"Average male charge: ~\", round(average_male_charge, 2))\n",
    "print(\"Median male charges: ~\", round(median_male_charge, 2))\n",
    "print(\"Max male charge: ~\", round(max_male_charge, 2))\n",
    "print(\"Min male charge: ~\", round(min_male_charge, 2))"
   ]
  },
  {
   "cell_type": "code",
   "execution_count": 75,
   "metadata": {},
   "outputs": [
    {
     "data": {
      "image/png": "[encoded data removed]",
      "text/plain": [
       "<Figure size 432x288 with 1 Axes>"
      ]
     },
     "metadata": {
      "needs_background": "light"
     },
     "output_type": "display_data"
    }
   ],
   "source": [
    "plt.hist(df_male['charges'])\n",
    "plt.title(\"Male charges\")\n",
    "plt.xlabel('Charges')\n",
    "plt.ylabel('Number of charges')\n",
    "plt.axvline(average_male_charge, color='orange')\n",
    "plt.axvline(median_male_charge, color='yellow')\n",
    "plt.legend(['Average Charge', 'Median Charges', 'Charges'])\n",
    "\n",
    "plt.show()"
   ]
  },
  {
   "cell_type": "markdown",
   "metadata": {},
   "source": [
    "## Female charges"
   ]
  },
  {
   "cell_type": "code",
   "execution_count": 71,
   "metadata": {},
   "outputs": [
    {
     "name": "stdout",
     "output_type": "stream",
     "text": [
      "Average female charge: ~ 12569.58\n",
      "Median female charges: ~ 9412.96\n",
      "Max male charge: ~ 63770.43\n",
      "Min male charge: ~ 1607.51\n"
     ]
    }
   ],
   "source": [
    "average_female_charge = df_female['charges'].mean()\n",
    "median_female_charge = df_female['charges'].median()\n",
    "max_female_charge = df_female['charges'].max()\n",
    "min_female_charge = df_female['charges'].min()\n",
    "\n",
    "print(\"Average female charge: ~\", round(average_female_charge, 2))\n",
    "print(\"Median female charges: ~\", round(median_female_charge, 2))\n",
    "\n",
    "print(\"Max male charge: ~\", round(max_female_charge, 2))\n",
    "print(\"Min male charge: ~\", round(min_female_charge, 2))"
   ]
  },
  {
   "cell_type": "code",
   "execution_count": 74,
   "metadata": {},
   "outputs": [
    {
     "data": {
      "image/png": "[encoded data removed]",
      "text/plain": [
       "<Figure size 432x288 with 1 Axes>"
      ]
     },
     "metadata": {
      "needs_background": "light"
     },
     "output_type": "display_data"
    }
   ],
   "source": [
    "plt.hist(df_female['charges'])\n",
    "plt.title(\"Female charges\")\n",
    "plt.xlabel('Charges')\n",
    "plt.ylabel('Number of charges')\n",
    "plt.axvline(average_female_charge, color='orange')\n",
    "plt.axvline(median_female_charge, color='yellow')\n",
    "plt.legend(['Average Charge', 'Median Charges', 'Charges'])\n",
    "\n",
    "\n",
    "plt.show()"
   ]
  }
 ],
 "metadata": {
  "kernelspec": {
   "display_name": "Python 3",
   "language": "python",
   "name": "python3"
  },
  "language_info": {
   "codemirror_mode": {
    "name": "ipython",
    "version": 3
   },
   "file_extension": ".py",
   "mimetype": "text/x-python",
   "name": "python",
   "nbconvert_exporter": "python",
   "pygments_lexer": "ipython3",
   "version": "3.8.3"
  }
 },
 "nbformat": 4,
 "nbformat_minor": 4
}
